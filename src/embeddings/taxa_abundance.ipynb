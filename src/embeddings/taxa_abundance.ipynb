{
 "cells": [
  {
   "cell_type": "code",
   "execution_count": 17,
   "metadata": {
    "scrolled": true
   },
   "outputs": [
    {
     "name": "stdout",
     "output_type": "stream",
     "text": [
      "Defaulting to user installation because normal site-packages is not writeable\n",
      "Collecting seaborn\n",
      "  Using cached seaborn-0.11.1-py3-none-any.whl (285 kB)\n",
      "Requirement already satisfied, skipping upgrade: scipy>=1.0 in /Users/marcin/Library/Python/3.7/lib/python/site-packages/scipy-1.4.1-py3.7-macosx-10.9-x86_64.egg (from seaborn) (1.4.1)\n",
      "Requirement already satisfied, skipping upgrade: numpy>=1.15 in /Library/Frameworks/Python.framework/Versions/3.7/lib/python3.7/site-packages (from seaborn) (1.18.5)\n",
      "Requirement already satisfied, skipping upgrade: matplotlib>=2.2 in /Library/Frameworks/Python.framework/Versions/3.7/lib/python3.7/site-packages (from seaborn) (3.2.1)\n",
      "Requirement already satisfied, skipping upgrade: pandas>=0.23 in /Users/marcin/Library/Python/3.7/lib/python/site-packages (from seaborn) (1.1.5)\n",
      "Requirement already satisfied, skipping upgrade: kiwisolver>=1.0.1 in /Library/Frameworks/Python.framework/Versions/3.7/lib/python3.7/site-packages (from matplotlib>=2.2->seaborn) (1.2.0)\n",
      "Requirement already satisfied, skipping upgrade: pyparsing!=2.0.4,!=2.1.2,!=2.1.6,>=2.0.1 in /Library/Frameworks/Python.framework/Versions/3.7/lib/python3.7/site-packages (from matplotlib>=2.2->seaborn) (2.3.1)\n",
      "Requirement already satisfied, skipping upgrade: cycler>=0.10 in /Library/Frameworks/Python.framework/Versions/3.7/lib/python3.7/site-packages (from matplotlib>=2.2->seaborn) (0.10.0)\n",
      "Requirement already satisfied, skipping upgrade: python-dateutil>=2.1 in /Users/marcin/Library/Python/3.7/lib/python/site-packages (from matplotlib>=2.2->seaborn) (2.7.5)\n",
      "Requirement already satisfied, skipping upgrade: pytz>=2017.2 in /Users/marcin/Library/Python/3.7/lib/python/site-packages/pytz-2019.3-py3.7.egg (from pandas>=0.23->seaborn) (2019.3)\n",
      "Requirement already satisfied, skipping upgrade: six in /Users/marcin/Library/Python/3.7/lib/python/site-packages/six-1.14.0-py3.7.egg (from cycler>=0.10->matplotlib>=2.2->seaborn) (1.14.0)\n",
      "Installing collected packages: seaborn\n",
      "Successfully installed seaborn-0.11.1\n",
      "\u001b[33mWARNING: You are using pip version 20.1.1; however, version 21.1.1 is available.\n",
      "You should consider upgrading via the '/Library/Frameworks/Python.framework/Versions/3.7/bin/python3.7 -m pip install --upgrade pip' command.\u001b[0m\n"
     ]
    }
   ],
   "source": [
    "!pip install -U seaborn"
   ]
  },
  {
   "cell_type": "code",
   "execution_count": 1,
   "metadata": {},
   "outputs": [
    {
     "name": "stderr",
     "output_type": "stream",
     "text": [
      "UserWarning: The Dask Engine for Modin is experimental.\n"
     ]
    }
   ],
   "source": [
    "import modin.pandas as pd\n",
    "import numpy as np\n",
    "import seaborn as sns\n",
    "import os"
   ]
  },
  {
   "cell_type": "code",
   "execution_count": 2,
   "metadata": {},
   "outputs": [
    {
     "data": {
      "text/plain": [
       "'/Users/marcin/Documents/KBase/KE/KE_KG/src/embeddings'"
      ]
     },
     "execution_count": 2,
     "metadata": {},
     "output_type": "execute_result"
    }
   ],
   "source": [
    "os.getcwd()"
   ]
  },
  {
   "cell_type": "code",
   "execution_count": 3,
   "metadata": {},
   "outputs": [],
   "source": [
    "df_taxa_orig = pd.read_csv(\"../../../MGnify/taxonomy_aggregated_full_removed_duplicates_10000.tsv\", sep=\"\\t\")"
   ]
  },
  {
   "cell_type": "code",
   "execution_count": 18,
   "metadata": {},
   "outputs": [
    {
     "data": {
      "text/plain": [
       "(9999, 68509)"
      ]
     },
     "execution_count": 18,
     "metadata": {},
     "output_type": "execute_result"
    }
   ],
   "source": [
    "cols = [col for col in df_taxa_orig.columns if col not in ['id', 'study_id', 'sample_id', 'biome', 'exptype']]\n",
    "#df_taxa = df_taxa_orig[df_taxa_orig.columns.difference(['id', 'study_id', 'sample_id', 'biome', 'exp_type'])]\n",
    "df_taxa = df_taxa_orig[cols]   \n",
    "df_taxa.shape"
   ]
  },
  {
   "cell_type": "code",
   "execution_count": 13,
   "metadata": {},
   "outputs": [
    {
     "data": {
      "text/plain": [
       "Index(['sk__Eukaryota;k__Metazoa;p__Nemertea;c__Anopla;o__Heteronemertea;f__Lineidae;g__Zygeupolia;s__Zygeupolia_rubens',\n",
       "       'sk__Eukaryota;k__;p__;c__Colpodea;o__Bryophryida',\n",
       "       'sk__Bacteria;k__;p__Proteobacteria;c__Gammaproteobacteria;o__Pseudomonadales;f__Pseudomonadaceae;g__Pseudomonas;s__Pseudomonas_reactans',\n",
       "       'sk__Eukaryota;k__;p__;c__Labyrinthulomycetes;o__;f__Thraustochytriaceae;g__Aplanochytrium;s__Aplanochytrium_sp._SEK_603',\n",
       "       'sk__Bacteria;k__;p__Firmicutes;c__Clostridia;o__Clostridiales;f__Proteinivoraceae;g__Anaerobranca',\n",
       "       'sk__Bacteria;k__;p__Proteobacteria;c__Alphaproteobacteria;o__Rhodobacterales;f__Rhodobacteraceae;g__Oceanicola;s__Oceanicola_sp._HL-35',\n",
       "       'sk__Bacteria;k__;p__Firmicutes;c__Bacilli;o__Bacillales;f__Bacillaceae;g__Bacillus;s__Bacillus_sp._1087',\n",
       "       'sk__Bacteria;k__;p__;c__;o__;f__;g__;s__denitrifying_bacterium_enrichment_culture_clone_NOA_0_E5',\n",
       "       'sk__Eukaryota;k__Metazoa;p__Nematoda;c__Chromadorea;o__Rhabditida;f__Rhabditidae;g__Caenorhabditis;s__Caenorhabditis_wallacei',\n",
       "       'sk__Bacteria;k__;p__Firmicutes;c__Bacilli;o__Bacillales;f__Paenibacillaceae;g__Paenibacillus;s__Paenibacillus_sp._2S3',\n",
       "       ...\n",
       "       'sk__Bacteria;k__;p__Proteobacteria;c__Gammaproteobacteria;o__Oceanospirillales;f__Halomonadaceae;g__Halomonas;s__Halomonas_sp._MB39',\n",
       "       'sk__Bacteria;k__;p__Proteobacteria;c__Gammaproteobacteria;o__Oceanospirillales;f__Kangiellaceae;g__Kangiella;s__Kangiella_chungangensis',\n",
       "       'sk__Eukaryota;k__Metazoa;p__Arthropoda;c__Insecta;o__Zygentoma;f__Lepidotrichidae;g__Tricholepidion',\n",
       "       'sk__Eukaryota;k__Fungi;p__Ascomycota;c__Eurotiomycetes;o__Phaeomoniellales;f__;g__Aequabiliella;s__Aequabiliella_effusa',\n",
       "       'sk__Eukaryota;k__;p__;c__;o__Thaumatomonadida;f__;g__Allas;s__Allas_sp._(3108W2)',\n",
       "       'sk__Bacteria;k__;p__Proteobacteria;c__Gammaproteobacteria;o__Enterobacterales;f__Enterobacteriaceae;g__Klebsiella;s__Klebsiella_sp._R39',\n",
       "       'sk__Eukaryota;k__Fungi;p__Ascomycota;c__Dothideomycetes;o__Valsariales',\n",
       "       'sk__Eukaryota;k__Metazoa;p__Arthropoda;c__Maxillopoda;o__Cyclopoida;f__Oithonidae;g__Oithona;s__Oithona_sp._2_New_Caledonia-RJH-2004',\n",
       "       'sk__Eukaryota;k__Metazoa;p__Arthropoda;c__Insecta;o__Coleoptera;f__Coccinellidae;g__;s__Exoplectrini_sp._JAR-2007',\n",
       "       'sk__Bacteria;k__;p__Actinobacteria;c__Actinobacteria;o__Pseudonocardiales;f__Pseudonocardiaceae;g__Saccharomonospora;s__Saccharomonospora_sp._MNSum19'],\n",
       "      dtype='object', length=68509)"
      ]
     },
     "execution_count": 13,
     "metadata": {},
     "output_type": "execute_result"
    }
   ],
   "source": [
    "df_taxa.columns"
   ]
  },
  {
   "cell_type": "code",
   "execution_count": 14,
   "metadata": {},
   "outputs": [],
   "source": [
    "df_taxa_colsums = df_taxa.sum(axis=0)"
   ]
  },
  {
   "cell_type": "code",
   "execution_count": 15,
   "metadata": {},
   "outputs": [
    {
     "name": "stderr",
     "output_type": "stream",
     "text": [
      "UserWarning: `Series.to_csv` defaulting to pandas implementation.\n",
      "UserWarning: Distributing <class 'pandas.core.series.Series'> object. This may take some time.\n"
     ]
    }
   ],
   "source": [
    "df_taxa_colsums.to_csv(\"df_taxa_colsums.tsv\", sep=\"\\t\")"
   ]
  },
  {
   "cell_type": "code",
   "execution_count": 57,
   "metadata": {},
   "outputs": [
    {
     "data": {
      "text/plain": [
       "(5044, 1)"
      ]
     },
     "execution_count": 57,
     "metadata": {},
     "output_type": "execute_result"
    }
   ],
   "source": [
    "df_taxa_colsums[df_taxa_colsums > 0]\n",
    "\n",
    "new_df = pd.DataFrame(df_taxa_colsums[df_taxa_colsums > 0], columns=[\"X\"])\n",
    "#new_df.iloc[0:100]\n",
    "new_df.shape"
   ]
  },
  {
   "cell_type": "code",
   "execution_count": 55,
   "metadata": {},
   "outputs": [
    {
     "data": {
      "text/plain": [
       "<matplotlib.axes._subplots.AxesSubplot at 0x7f9cf2dcb048>"
      ]
     },
     "execution_count": 55,
     "metadata": {},
     "output_type": "execute_result"
    },
    {
     "data": {
      "image/png": "[encoded data removed]",
      "text/plain": [
       "<Figure size 432x288 with 1 Axes>"
      ]
     },
     "metadata": {
      "needs_background": "light"
     },
     "output_type": "display_data"
    }
   ],
   "source": [
    "sns.histplot(data=new_df.iloc[0:100],x='X', log_scale=True)#, x=\"MGnify 'Taxa abundance' column sums\")#, binwidth=3)"
   ]
  },
  {
   "cell_type": "code",
   "execution_count": 60,
   "metadata": {},
   "outputs": [
    {
     "data": {
      "text/plain": [
       "<matplotlib.axes._subplots.AxesSubplot at 0x7f9cf25077b8>"
      ]
     },
     "execution_count": 60,
     "metadata": {},
     "output_type": "execute_result"
    },
    {
     "data": {
      "image/png": "[encoded data removed]",
      "text/plain": [
       "<Figure size 432x288 with 1 Axes>"
      ]
     },
     "metadata": {
      "needs_background": "light"
     },
     "output_type": "display_data"
    }
   ],
   "source": [
    "histplot = sns.histplot(data=new_df,x='X', log_scale=True)\n",
    "fig = histplot.get_figure()\n",
    "fig.savefig(\"histplot.png\")\n",
    "histplot"
   ]
  }
 ],
 "metadata": {
  "kernelspec": {
   "display_name": "Python 3",
   "language": "python",
   "name": "python3"
  },
  "language_info": {
   "codemirror_mode": {
    "name": "ipython",
    "version": 3
   },
   "file_extension": ".py",
   "mimetype": "text/x-python",
   "name": "python",
   "nbconvert_exporter": "python",
   "pygments_lexer": "ipython3",
   "version": "3.7.0b4"
  }
 },
 "nbformat": 4,
 "nbformat_minor": 2
}
