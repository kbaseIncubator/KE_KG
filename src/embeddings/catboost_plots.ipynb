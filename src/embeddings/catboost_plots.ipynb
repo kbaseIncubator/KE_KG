{
 "cells": [
  {
   "cell_type": "code",
   "execution_count": 2,
   "id": "colored-humidity",
   "metadata": {},
   "outputs": [
    {
     "name": "stdout",
     "output_type": "stream",
     "text": [
      "Collecting seaborn\n",
      "  Using cached https://files.pythonhosted.org/packages/68/ad/6c2406ae175f59ec616714e408979b674fe27b9587f79d59a528ddfbcd5b/seaborn-0.11.1-py3-none-any.whl\n",
      "Requirement already satisfied: pandas>=0.23 in ./venv/lib/python3.7/site-packages (from seaborn) (1.1.5)\n",
      "Requirement already satisfied: numpy>=1.15 in ./venv/lib/python3.7/site-packages (from seaborn) (1.20.1)\n",
      "Requirement already satisfied: scipy>=1.0 in ./venv/lib/python3.7/site-packages (from seaborn) (1.6.1)\n",
      "Requirement already satisfied: matplotlib>=2.2 in ./venv/lib/python3.7/site-packages (from seaborn) (3.3.4)\n",
      "Requirement already satisfied: python-dateutil>=2.7.3 in ./venv/lib/python3.7/site-packages (from pandas>=0.23->seaborn) (2.8.1)\n",
      "Requirement already satisfied: pytz>=2017.2 in ./venv/lib/python3.7/site-packages (from pandas>=0.23->seaborn) (2021.1)\n",
      "Requirement already satisfied: pyparsing!=2.0.4,!=2.1.2,!=2.1.6,>=2.0.3 in ./venv/lib/python3.7/site-packages (from matplotlib>=2.2->seaborn) (2.4.7)\n",
      "Requirement already satisfied: kiwisolver>=1.0.1 in ./venv/lib/python3.7/site-packages (from matplotlib>=2.2->seaborn) (1.3.1)\n",
      "Requirement already satisfied: pillow>=6.2.0 in ./venv/lib/python3.7/site-packages (from matplotlib>=2.2->seaborn) (8.1.2)\n",
      "Requirement already satisfied: cycler>=0.10 in ./venv/lib/python3.7/site-packages (from matplotlib>=2.2->seaborn) (0.10.0)\n",
      "Requirement already satisfied: six>=1.5 in ./venv/lib/python3.7/site-packages (from python-dateutil>=2.7.3->pandas>=0.23->seaborn) (1.15.0)\n",
      "\u001b[31mrequests 2.25.1 has requirement idna<3,>=2.5, but you'll have idna 3.1 which is incompatible.\u001b[0m\n",
      "Installing collected packages: seaborn\n",
      "Successfully installed seaborn-0.11.1\n",
      "\u001b[33mYou are using pip version 10.0.1, however version 21.0.1 is available.\n",
      "You should consider upgrading via the 'pip install --upgrade pip' command.\u001b[0m\n",
      "Note: you may need to restart the kernel to use updated packages.\n"
     ]
    }
   ],
   "source": [
    "pip install seaborn\n"
   ]
  },
  {
   "cell_type": "code",
   "execution_count": 3,
   "id": "serial-transfer",
   "metadata": {},
   "outputs": [],
   "source": [
    "import pickle\n",
    "import seaborn as sns\n",
    "\n",
    "import matplotlib\n",
    "import matplotlib.pyplot as plt\n",
    "import numpy as np\n",
    "import pandas as pd\n",
    "import shap\n",
    "\n",
    "from catboost import CatBoostClassifier, CatBoostRegressor, Pool, cv\n"
   ]
  },
  {
   "cell_type": "code",
   "execution_count": 5,
   "id": "designed-moses",
   "metadata": {},
   "outputs": [
    {
     "name": "stdout",
     "output_type": "stream",
     "text": [
      "start\n",
      "   Unnamed: 0   FIPS  unclassified_indoor_fungi  \\\n",
      "0           1  35001                       3445   \n",
      "1           2  35001                       3081   \n",
      "2           3  35001                       5112   \n",
      "3           4  35001                       2513   \n",
      "4           5  35001                       3523   \n",
      "\n",
      "   k__Fungi.p__Ascomycota.c__Eurotiomycetes.o__Eurotiales.f__Trichocomaceae.g__Aspergillus_indoor  \\\n",
      "0                                                 17                                                \n",
      "1                                                 36                                                \n",
      "2                                                380                                                \n",
      "3                                                 14                                                \n",
      "4                                                 18                                                \n",
      "\n",
      "   k__Fungi.p__Ascomycota.c__Dothideomycetes.o__Capnodiales.f__Incertae.sedis.g__Toxicocladosporium_indoor  \\\n",
      "0                                                 37                                                         \n",
      "1                                                  1                                                         \n",
      "2                                                  1                                                         \n",
      "3                                                  1                                                         \n",
      "4                                                  2                                                         \n",
      "\n",
      "   k__Fungi.p__Ascomycota.c__unidentified.o__unidentified.f__unidentified.g__unidentified_indoor  \\\n",
      "0                                                 11                                               \n",
      "1                                                273                                               \n",
      "2                                                103                                               \n",
      "3                                                 65                                               \n",
      "4                                                 45                                               \n",
      "\n",
      "   k__Fungi.p__Ascomycota.c__Dothideomycetes.o__Pleosporales.f__Incertae.sedis.g__Phoma_indoor  \\\n",
      "0                                                585                                             \n",
      "1                                                884                                             \n",
      "2                                                559                                             \n",
      "3                                                185                                             \n",
      "4                                                832                                             \n",
      "\n",
      "   k__Fungi.p__Ascomycota.c__Dothideomycetes.o__Pleosporales.f__Pleosporaceae.g__Alternaria_indoor  \\\n",
      "0                                               2215                                                 \n",
      "1                                               1912                                                 \n",
      "2                                                559                                                 \n",
      "3                                               2000                                                 \n",
      "4                                                908                                                 \n",
      "\n",
      "   k__Fungi.p__Ascomycota.c__Dothideomycetes.o__Dothideales.f__Dothioraceae.g__Aureobasidium_indoor  \\\n",
      "0                                                657                                                  \n",
      "1                                                955                                                  \n",
      "2                                                108                                                  \n",
      "3                                                301                                                  \n",
      "4                                                173                                                  \n",
      "\n",
      "   k__Fungi.p__Basidiomycota.c__Microbotryomycetes.o__Sporidiobolales.f__Incertae.sedis.g__Sporobolomyces_indoor  \\\n",
      "0                                                  5                                                               \n",
      "1                                                 52                                                               \n",
      "2                                                 25                                                               \n",
      "3                                                 12                                                               \n",
      "4                                                  7                                                               \n",
      "\n",
      "   ...  \\\n",
      "0  ...   \n",
      "1  ...   \n",
      "2  ...   \n",
      "3  ...   \n",
      "4  ...   \n",
      "\n",
      "   GROSS_RENT_AS_A_PERCENTAGE_OF_HOUSEHOLD_INCOME_Occupied_units_paying_rent_Less_than_15_percent_shuffled  \\\n",
      "0                                           0.046626                                                         \n",
      "1                                           0.032747                                                         \n",
      "2                                           0.042642                                                         \n",
      "3                                           0.038754                                                         \n",
      "4                                           0.025117                                                         \n",
      "\n",
      "   SELECTED_MONTHLY_OWNER_COSTS_Housing_units_with_a_mortgage_Less_than_500_shuffled  \\\n",
      "0                                           0.009788                                   \n",
      "1                                           0.009961                                   \n",
      "2                                           0.010350                                   \n",
      "3                                           0.031458                                   \n",
      "4                                           0.027635                                   \n",
      "\n",
      "   SELECTED_MONTHLY_OWNER_COSTS_AS_A_PERCENTAGE_OF_HOUSEHOLD_INCOME_Housing_units_with_a_mortgage_30_to_34point9_percent_shuffled  \\\n",
      "0                                           0.057292                                                                                \n",
      "1                                           0.076737                                                                                \n",
      "2                                           0.057548                                                                                \n",
      "3                                           0.071684                                                                                \n",
      "4                                           0.054053                                                                                \n",
      "\n",
      "   SELECTED_MONTHLY_OWNER_COSTS_AS_A_PERCENTAGE_OF_HOUSEHOLD_INCOME_Housing_units_with_a_mortgage_35_percent_or_more_shuffled  \\\n",
      "0                                           0.231964                                                                            \n",
      "1                                           0.185994                                                                            \n",
      "2                                           0.170701                                                                            \n",
      "3                                           0.202454                                                                            \n",
      "4                                           0.231964                                                                            \n",
      "\n",
      "   SELECTED_MONTHLY_OWNER_COSTS_AS_A_PERCENTAGE_OF_HOUSEHOLD_INCOME_Housing_unit_without_a_mortgage_Less_than_10_percent_shuffled  \\\n",
      "0                                           0.403151                                                                                \n",
      "1                                           0.569735                                                                                \n",
      "2                                           0.363921                                                                                \n",
      "3                                           0.421594                                                                                \n",
      "4                                           0.473949                                                                                \n",
      "\n",
      "   SELECTED_MONTHLY_OWNER_COSTS_AS_A_PERCENTAGE_OF_HOUSEHOLD_INCOME_Housing_unit_without_a_mortgage_30_to_34point9_percent_shuffled  \\\n",
      "0                                           0.029904                                                                                  \n",
      "1                                           0.032761                                                                                  \n",
      "2                                           0.025133                                                                                  \n",
      "3                                           0.029044                                                                                  \n",
      "4                                           0.042231                                                                                  \n",
      "\n",
      "   SELECTED_MONTHLY_OWNER_COSTS_AS_A_PERCENTAGE_OF_HOUSEHOLD_INCOME_Housing_unit_without_a_mortgage_35_percent_or_more_shuffled  \\\n",
      "0                                           0.172064                                                                              \n",
      "1                                           0.086838                                                                              \n",
      "2                                           0.091685                                                                              \n",
      "3                                           0.097616                                                                              \n",
      "4                                           0.065921                                                                              \n",
      "\n",
      "   gathering_size_10_0_shuffled  Chance_Wearing_Mask_shuffled     IFR  \n",
      "0                      0.377049                        0.9257  0.0053  \n",
      "1                      0.913934                        0.9225  0.0053  \n",
      "2                      0.881148                        0.8591  0.0053  \n",
      "3                      0.893443                        0.9345  0.0053  \n",
      "4                      0.307377                        0.7948  0.0053  \n",
      "\n",
      "[5 rows x 429 columns]\n"
     ]
    }
   ],
   "source": [
    "\n",
    "print(\"start\")\n",
    "\n",
    "df_eco = pd.read_csv('./Datasets/Marginal_Combined_60.csv', sep=',', encoding='utf-8')\n",
    "print(df_eco.head())\n"
   ]
  },
  {
   "cell_type": "code",
   "execution_count": 10,
   "id": "filled-setting",
   "metadata": {},
   "outputs": [],
   "source": [
    "input_data = pickle.load(open( \"./catboost_out/input_data_dump\", \"rb\" ))\n",
    "#[X, y, X_train, X_test, y_train, y_test]\n",
    "\n",
    "X = input_data[0]\n",
    "y = input_data[1]\n",
    "X_train = input_data[2]\n",
    "X_test = input_data[3]\n",
    "y_train = input_data[4]\n",
    "y_test = input_data[5]\n",
    "\n",
    "train_dataset = Pool(X_train, y_train)\n",
    "test_dataset = Pool(X_test, y_test)\n"
   ]
  },
  {
   "cell_type": "code",
   "execution_count": 13,
   "id": "bronze-theory",
   "metadata": {},
   "outputs": [
    {
     "ename": "RuntimeError",
     "evalue": "incompatible bytecode version",
     "output_type": "error",
     "traceback": [
      "\u001b[0;31m---------------------------------------------------------------------------\u001b[0m",
      "\u001b[0;31mRuntimeError\u001b[0m                              Traceback (most recent call last)",
      "\u001b[0;32m<ipython-input-13-9be397bb7c58>\u001b[0m in \u001b[0;36m<module>\u001b[0;34m\u001b[0m\n\u001b[0;32m----> 1\u001b[0;31m \u001b[0moutput_data\u001b[0m \u001b[0;34m=\u001b[0m \u001b[0mpickle\u001b[0m\u001b[0;34m.\u001b[0m\u001b[0mload\u001b[0m\u001b[0;34m(\u001b[0m\u001b[0mopen\u001b[0m\u001b[0;34m(\u001b[0m \u001b[0;34m\"./catboost_out/data_output\"\u001b[0m\u001b[0;34m,\u001b[0m \u001b[0;34m\"rb\"\u001b[0m \u001b[0;34m)\u001b[0m\u001b[0;34m)\u001b[0m\u001b[0;34m\u001b[0m\u001b[0m\n\u001b[0m\u001b[1;32m      2\u001b[0m \u001b[0;31m#[random_seed, grid, grid_search_result, cb_model, cbmf, pred_train, explainer_model, pred_test, explainer_fit]\u001b[0m\u001b[0;34m\u001b[0m\u001b[0;34m\u001b[0m\u001b[0m\n\u001b[1;32m      3\u001b[0m \u001b[0;34m\u001b[0m\u001b[0m\n\u001b[1;32m      4\u001b[0m \u001b[0mrandom_seed\u001b[0m \u001b[0;34m=\u001b[0m \u001b[0moutput_data\u001b[0m\u001b[0;34m[\u001b[0m\u001b[0;36m0\u001b[0m\u001b[0;34m]\u001b[0m\u001b[0;34m\u001b[0m\u001b[0m\n\u001b[1;32m      5\u001b[0m \u001b[0mgrid\u001b[0m \u001b[0;34m=\u001b[0m \u001b[0moutput_data\u001b[0m\u001b[0;34m[\u001b[0m\u001b[0;36m1\u001b[0m\u001b[0;34m]\u001b[0m\u001b[0;34m\u001b[0m\u001b[0m\n",
      "\u001b[0;32m~/Documents/VIMSS/COVID/ecointeractions/venv/lib/python3.7/site-packages/numba/core/serialize.py\u001b[0m in \u001b[0;36m_unpickle__CustomPickled\u001b[0;34m(serialized)\u001b[0m\n\u001b[1;32m    206\u001b[0m     \u001b[0mUses\u001b[0m\u001b[0;31m \u001b[0m\u001b[0;31m`\u001b[0m\u001b[0mNumbaPickler\u001b[0m\u001b[0;31m`\u001b[0m \u001b[0mto\u001b[0m \u001b[0mload\u001b[0m\u001b[0;34m.\u001b[0m\u001b[0;34m\u001b[0m\u001b[0m\n\u001b[1;32m    207\u001b[0m     \"\"\"\n\u001b[0;32m--> 208\u001b[0;31m     \u001b[0mctor\u001b[0m\u001b[0;34m,\u001b[0m \u001b[0mstates\u001b[0m \u001b[0;34m=\u001b[0m \u001b[0mloads\u001b[0m\u001b[0;34m(\u001b[0m\u001b[0mserialized\u001b[0m\u001b[0;34m)\u001b[0m\u001b[0;34m\u001b[0m\u001b[0m\n\u001b[0m\u001b[1;32m    209\u001b[0m     \u001b[0;32mreturn\u001b[0m \u001b[0m_CustomPickled\u001b[0m\u001b[0;34m(\u001b[0m\u001b[0mctor\u001b[0m\u001b[0;34m,\u001b[0m \u001b[0mstates\u001b[0m\u001b[0;34m)\u001b[0m\u001b[0;34m\u001b[0m\u001b[0m\n\u001b[1;32m    210\u001b[0m \u001b[0;34m\u001b[0m\u001b[0m\n",
      "\u001b[0;32m~/Documents/VIMSS/COVID/ecointeractions/venv/lib/python3.7/site-packages/numba/core/serialize.py\u001b[0m in \u001b[0;36m_rebuild_function\u001b[0;34m(code_reduced, globals, name, cell_values, defaults)\u001b[0m\n\u001b[1;32m    110\u001b[0m     \u001b[0;32melse\u001b[0m\u001b[0;34m:\u001b[0m\u001b[0;34m\u001b[0m\u001b[0m\n\u001b[1;32m    111\u001b[0m         \u001b[0mcells\u001b[0m \u001b[0;34m=\u001b[0m \u001b[0;34m(\u001b[0m\u001b[0;34m)\u001b[0m\u001b[0;34m\u001b[0m\u001b[0m\n\u001b[0;32m--> 112\u001b[0;31m     \u001b[0mcode\u001b[0m \u001b[0;34m=\u001b[0m \u001b[0m_rebuild_code\u001b[0m\u001b[0;34m(\u001b[0m\u001b[0;34m*\u001b[0m\u001b[0mcode_reduced\u001b[0m\u001b[0;34m)\u001b[0m\u001b[0;34m\u001b[0m\u001b[0m\n\u001b[0m\u001b[1;32m    113\u001b[0m     \u001b[0mmodname\u001b[0m \u001b[0;34m=\u001b[0m \u001b[0mglobals\u001b[0m\u001b[0;34m[\u001b[0m\u001b[0;34m'__name__'\u001b[0m\u001b[0;34m]\u001b[0m\u001b[0;34m\u001b[0m\u001b[0m\n\u001b[1;32m    114\u001b[0m     \u001b[0;32mtry\u001b[0m\u001b[0;34m:\u001b[0m\u001b[0;34m\u001b[0m\u001b[0m\n",
      "\u001b[0;32m~/Documents/VIMSS/COVID/ecointeractions/venv/lib/python3.7/site-packages/numba/core/serialize.py\u001b[0m in \u001b[0;36m_rebuild_code\u001b[0;34m(marshal_version, bytecode_magic, marshalled)\u001b[0m\n\u001b[1;32m    130\u001b[0m                            % (marshal.version, marshal_version))\n\u001b[1;32m    131\u001b[0m     \u001b[0;32mif\u001b[0m \u001b[0mbc_magic\u001b[0m \u001b[0;34m!=\u001b[0m \u001b[0mbytecode_magic\u001b[0m\u001b[0;34m:\u001b[0m\u001b[0;34m\u001b[0m\u001b[0m\n\u001b[0;32m--> 132\u001b[0;31m         \u001b[0;32mraise\u001b[0m \u001b[0mRuntimeError\u001b[0m\u001b[0;34m(\u001b[0m\u001b[0;34m\"incompatible bytecode version\"\u001b[0m\u001b[0;34m)\u001b[0m\u001b[0;34m\u001b[0m\u001b[0m\n\u001b[0m\u001b[1;32m    133\u001b[0m     \u001b[0;32mreturn\u001b[0m \u001b[0mmarshal\u001b[0m\u001b[0;34m.\u001b[0m\u001b[0mloads\u001b[0m\u001b[0;34m(\u001b[0m\u001b[0mmarshalled\u001b[0m\u001b[0;34m)\u001b[0m\u001b[0;34m\u001b[0m\u001b[0m\n\u001b[1;32m    134\u001b[0m \u001b[0;34m\u001b[0m\u001b[0m\n",
      "\u001b[0;31mRuntimeError\u001b[0m: incompatible bytecode version"
     ]
    }
   ],
   "source": [
    "output_data = pickle.load(open( \"./catboost_out/data_output\", \"rb\" ))\n",
    "#[random_seed, grid, grid_search_result, cb_model, cbmf, pred_train, explainer_model, pred_test, explainer_fit]\n",
    "\n",
    "random_seed = output_data[0]\n",
    "grid = output_data[1]\n",
    "grid_search_result = output_data[2]\n",
    "cb_model = output_data[3]\n",
    "cbmf = output_data[4]\n",
    "pred_train = output_data[5]\n",
    "explainer_model = output_data[6]\n",
    "pred_test = output_data[7]\n",
    "explainer_fit = output_data[8]\n"
   ]
  },
  {
   "cell_type": "code",
   "execution_count": null,
   "id": "parliamentary-diary",
   "metadata": {},
   "outputs": [],
   "source": [
    "sorted_feature_importance = cb_model.feature_importances_.argsort()\n",
    "plt.barh(cb_model.feature_names[sorted_feature_importance[1:100]],\n",
    "        cb_model.feature_importances_[sorted_feature_importance[1:100]],\n",
    "        color='turquoise')\n",
    "plt.xlabel(\"CatBoost Feature Importance\")"
   ]
  },
  {
   "cell_type": "code",
   "execution_count": null,
   "id": "advised-transparency",
   "metadata": {},
   "outputs": [],
   "source": [
    "shap_values = explainer.shap_values(X_test)\n",
    "shap.summary_plot(shap_values, X_test, feature_names = cb_model.feature_names[sorted_feature_importance],show=False)#,matplotlib=True).savefig('SHAP.pdf',bbox_inches = 'tight')\n"
   ]
  },
  {
   "cell_type": "code",
   "execution_count": null,
   "id": "martial-superior",
   "metadata": {},
   "outputs": [],
   "source": [
    "shap.force_plot(explainer.expected_value, shap_values, X_test, feature_names = cb_model.feature_names[sorted_feature_importance],show=False)#.savefig('SHAP.pdf',bbox_inches = 'tight')\n"
   ]
  }
 ],
 "metadata": {
  "kernelspec": {
   "display_name": "Python 3",
   "language": "python",
   "name": "python3"
  },
  "language_info": {
   "codemirror_mode": {
    "name": "ipython",
    "version": 3
   },
   "file_extension": ".py",
   "mimetype": "text/x-python",
   "name": "python",
   "nbconvert_exporter": "python",
   "pygments_lexer": "ipython3",
   "version": "3.7.0b4"
  }
 },
 "nbformat": 4,
 "nbformat_minor": 5
}
